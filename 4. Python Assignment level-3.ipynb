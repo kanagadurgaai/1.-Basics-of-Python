{
 "cells": [
  {
   "cell_type": "code",
   "execution_count": 1,
   "metadata": {},
   "outputs": [
    {
     "name": "stdout",
     "output_type": "stream",
     "text": [
      "Value: 10\n",
      "correct\n"
     ]
    }
   ],
   "source": [
    "# print 'correct' if i==10\n",
    "i=10\n",
    "if i==10:\n",
    "    print(\"Value:\",10)\n",
    "    print(\"correct\")"
   ]
  },
  {
   "cell_type": "code",
   "execution_count": 2,
   "metadata": {},
   "outputs": [
    {
     "name": "stdout",
     "output_type": "stream",
     "text": [
      "Enter the password:HOPE@123\n",
      "your password is correct\n"
     ]
    }
   ],
   "source": [
    "# check the password using if and else\n",
    "password=input(\"Enter the password:\")\n",
    "if password==\"HOPE@123\":\n",
    "    print(\"your password is correct\")\n",
    "else:\n",
    "    print(\"your password is not correct\")"
   ]
  },
  {
   "cell_type": "code",
   "execution_count": 3,
   "metadata": {},
   "outputs": [
    {
     "name": "stdout",
     "output_type": "stream",
     "text": [
      "age:20\n",
      "Adult\n"
     ]
    }
   ],
   "source": [
    "# category the people by their age like children,adult, citizen,senior citizen\n",
    "age=int(input(\"age:\"))\n",
    "if age<18:\n",
    "    print(\"children\")\n",
    "elif age<35:\n",
    "    print(\"Adult\")\n",
    "elif age<58:\n",
    "    print(\"citizen\")\n",
    "else:\n",
    "    print(\"senior citizen\")"
   ]
  },
  {
   "cell_type": "code",
   "execution_count": 4,
   "metadata": {},
   "outputs": [
    {
     "name": "stdout",
     "output_type": "stream",
     "text": [
      "enter any number:22\n",
      "number is positive\n"
     ]
    }
   ],
   "source": [
    "# find whether the number is positive or negative\n",
    "number=int(input(\"enter any number:\"))\n",
    "if number<0:\n",
    "    print(number is negative)\n",
    "elif number>0:\n",
    "    print(\"number is positive\")\n",
    "elif number==0:\n",
    "    print(\"number is zero\")\n",
    "else:\n",
    "    print(\"its not a number\")\n",
    "    \n",
    "\n"
   ]
  },
  {
   "cell_type": "code",
   "execution_count": 5,
   "metadata": {},
   "outputs": [
    {
     "name": "stdout",
     "output_type": "stream",
     "text": [
      "enter the number:22\n",
      "number is not divisible by 5\n"
     ]
    }
   ],
   "source": [
    "# check whether the given number is divisible by 5\n",
    "number=int(input(\"enter the number:\"))\n",
    "if number%5==0:\n",
    "    print(\"number is divisible by 5\")\n",
    "else:\n",
    "    print(\"number is not divisible by 5\")"
   ]
  }
 ],
 "metadata": {
  "kernelspec": {
   "display_name": "Python 3",
   "language": "python",
   "name": "python3"
  },
  "language_info": {
   "codemirror_mode": {
    "name": "ipython",
    "version": 3
   },
   "file_extension": ".py",
   "mimetype": "text/x-python",
   "name": "python",
   "nbconvert_exporter": "python",
   "pygments_lexer": "ipython3",
   "version": "3.7.4"
  }
 },
 "nbformat": 4,
 "nbformat_minor": 2
}
