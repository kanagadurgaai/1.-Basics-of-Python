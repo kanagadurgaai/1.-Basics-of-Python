{
 "cells": [
  {
   "cell_type": "code",
   "execution_count": 1,
   "metadata": {},
   "outputs": [
    {
     "name": "stdout",
     "output_type": "stream",
     "text": [
      "Welcome to Assignment-1\n"
     ]
    }
   ],
   "source": [
    "# Using print statement\n",
    "print(\"Welcome to Assignment-1\")"
   ]
  },
  {
   "cell_type": "code",
   "execution_count": 2,
   "metadata": {},
   "outputs": [
    {
     "name": "stdout",
     "output_type": "stream",
     "text": [
      "num1= 10\n",
      "num2= 30\n",
      "Add= 40\n"
     ]
    }
   ],
   "source": [
    "# Addition\n",
    "number1=10\n",
    "print(\"num1=\", number1)\n",
    "number2=30\n",
    "print(\"num2=\",number2)\n",
    "addition=number1+number2\n",
    "print(\"Add=\",addition)"
   ]
  },
  {
   "cell_type": "code",
   "execution_count": 3,
   "metadata": {},
   "outputs": [
    {
     "name": "stdout",
     "output_type": "stream",
     "text": [
      "enter the BMI index:34\n",
      "Very overweight\n"
     ]
    }
   ],
   "source": [
    "# Body mass Index\n",
    "BMI=int(input(\"enter the BMI index:\"))\n",
    "if BMI<18.5:\n",
    "    print(\"Under weight\")\n",
    "elif BMI<25.0:\n",
    "    print(\"Healthy weight\")\n",
    "elif BMI<30.0:\n",
    "    print(\"Over weight\")\n",
    "else:\n",
    "    print(\"Very overweight\")"
   ]
  }
 ],
 "metadata": {
  "kernelspec": {
   "display_name": "Python 3",
   "language": "python",
   "name": "python3"
  },
  "language_info": {
   "codemirror_mode": {
    "name": "ipython",
    "version": 3
   },
   "file_extension": ".py",
   "mimetype": "text/x-python",
   "name": "python",
   "nbconvert_exporter": "python",
   "pygments_lexer": "ipython3",
   "version": "3.7.4"
  }
 },
 "nbformat": 4,
 "nbformat_minor": 2
}
